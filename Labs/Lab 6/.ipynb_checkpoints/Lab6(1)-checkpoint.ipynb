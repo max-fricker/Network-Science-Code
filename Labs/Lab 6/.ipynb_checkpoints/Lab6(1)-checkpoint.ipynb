{
 "cells": [
  {
   "cell_type": "markdown",
   "metadata": {},
   "source": [
    "## Network Science Lab 6"
   ]
  },
  {
   "cell_type": "markdown",
   "metadata": {},
   "source": [
    "### Simulating the naive Network-SI model\n",
    "\n",
    "In this lab, you will develop code to compute solutions to the naive network-SI model on a Barabasi-Albert graph. Running the cell below will generate the needed graph."
   ]
  },
  {
   "cell_type": "code",
   "execution_count": 1,
   "metadata": {},
   "outputs": [
    {
     "name": "stdout",
     "output_type": "stream",
     "text": [
      "Graph with 200 nodes and 784 edges\n"
     ]
    }
   ],
   "source": [
    "import networkx as nx\n",
    "G = nx.barabasi_albert_graph(200,4,seed=1)\n",
    "N = G.number_of_nodes()\n",
    "print(G)"
   ]
  },
  {
   "cell_type": "markdown",
   "metadata": {},
   "source": [
    "The governing equations for the naive network-SI model are:\n",
    "\n",
    "$$\\frac{dx_i}{dt} =  \\beta(1-x_i)\\sum_{j=0}^{N-1} A_{ij} x_j, i=0,1,2,...,N-1.$$\n",
    "\n",
    "The equations have been written with $x_i$ instead of $\\left<x_i\\right>$ for convenience.\n",
    "The nodes are numbered from $0$ to $N-1$ which is why the sum is also from $0$ to $N-1$.\n",
    "We will use the following initial condition: $x_0(t=0) = 0.001$, $x_i(t=0)=0$ for $i>0$.\n",
    "\n"
   ]
  },
  {
   "cell_type": "markdown",
   "metadata": {},
   "source": [
    "1) Create a function named RHS which takes $t$, and $\\textbf{x}$ as input and returns $d\\textbf{x}/dt$. Note that $\\textbf{x}$ and $d\\textbf{x}/dt$ should each contain $N$ elements. We will use $\\beta=0.2$."
   ]
  },
  {
   "cell_type": "code",
   "execution_count": null,
   "metadata": {},
   "outputs": [],
   "source": [
    "import numpy as np\n",
    "import matplotlib.pyplot as plt\n",
    "beta = 0.2 #This variable will be available within RHS below\n",
    "#Add code here\n"
   ]
  },
  {
   "cell_type": "markdown",
   "metadata": {},
   "source": [
    "2) Now, (a) set the variable, x0, to the initial condition, and  (b) create an array of times, t (starting at zero) at which the solution will be computed (x0 should contain $N$ elements)."
   ]
  },
  {
   "cell_type": "code",
   "execution_count": null,
   "metadata": {},
   "outputs": [],
   "source": [
    "#Add code here\n"
   ]
  },
  {
   "cell_type": "markdown",
   "metadata": {},
   "source": [
    "3) Use solve_ivp with the BDF method to compute the solution to the naive network-SI model. Your solution should be stored in an $N \\textrm{x} Nt+1$ element array (where $Nt+1$ is the size of t)."
   ]
  },
  {
   "cell_type": "code",
   "execution_count": null,
   "metadata": {},
   "outputs": [],
   "source": [
    "from scipy.integrate import solve_ivp\n"
   ]
  },
  {
   "cell_type": "markdown",
   "metadata": {},
   "source": [
    "4) Consider the node average, $\\overline{x}(t) = \\sum_{j=1}^N x_i(t)$. Compute the node average and plot the node average vs. time.  "
   ]
  },
  {
   "cell_type": "code",
   "execution_count": null,
   "metadata": {},
   "outputs": [],
   "source": [
    "#Add code here\n"
   ]
  },
  {
   "cell_type": "markdown",
   "metadata": {},
   "source": [
    "5) On Thursday, we will discuss the degree-based approximation which predicts that the disease will initially spread exponentially with the foloowing trend: $exp(t/\\tau)$ with $\\tau^{-1}  = \\beta\\left(\\overline{k^2}/\\overline{k}-1 \\right)$. Code has been provided below to compute $\\tau$. \n",
    "Does your computed node average follow this trend? Make a plot comparing your numerical result and this theoretical estimate. Note that we are interested in the rate of increase and not the magnitude of the node average."
   ]
  },
  {
   "cell_type": "code",
   "execution_count": null,
   "metadata": {},
   "outputs": [],
   "source": [
    "k = np.array(list(nx.degree(G)))[:,1]\n",
    "kbar = k.mean()\n",
    "k2bar = np.mean(k**2)\n",
    "tau_inv = beta*(k2bar/kbar-1)\n",
    "tau = 1/tau_inv\n",
    "\n",
    "#Add code here\n"
   ]
  },
  {
   "cell_type": "markdown",
   "metadata": {},
   "source": [
    "6) We can also estimate the rate of spread construting a linear least-squares fit of the form $log(\\overline{x}) = at + b$ where $a$ and $b$ are the fit parameters. In the cell below, select ind1 and ind2, and then the code will construct such a fit for xbar[ind1:ind2] (assuming you have stored the node average in a variable named xbar). Is $a$ close to $1/\\tau$?"
   ]
  },
  {
   "cell_type": "code",
   "execution_count": null,
   "metadata": {},
   "outputs": [],
   "source": [
    "#ind1 = ?\n",
    "#ind2 = ?\n",
    "a,b = np.polyfit(t[ind1:ind2],np.log(xbar[ind1:ind2]),1)\n",
    "print(\"a=\",a)"
   ]
  },
  {
   "cell_type": "markdown",
   "metadata": {},
   "source": [
    "**Note on solve_ivp:** *solve_ivp* generates approximate numerical solutions for systems of ODEs using one of several available variable time step methods. The solutions are computed moving forward from the initial condition one time step at a time. Each iteration, the length of the time step is set so that an estimated error falls below a given threshold (smaller time steps tend to correspond to more accurate solutions). We can assume that all of the available methods have been implemented efficiently, and there is no one method that works best for all IVPs. For systems of nonlinear ODEs, the BDF method is usually a good choice."
   ]
  }
 ],
 "metadata": {
  "kernelspec": {
   "display_name": "Python 3 (ipykernel)",
   "language": "python",
   "name": "python3"
  },
  "language_info": {
   "codemirror_mode": {
    "name": "ipython",
    "version": 3
   },
   "file_extension": ".py",
   "mimetype": "text/x-python",
   "name": "python",
   "nbconvert_exporter": "python",
   "pygments_lexer": "ipython3",
   "version": "3.9.13"
  }
 },
 "nbformat": 4,
 "nbformat_minor": 1
}
