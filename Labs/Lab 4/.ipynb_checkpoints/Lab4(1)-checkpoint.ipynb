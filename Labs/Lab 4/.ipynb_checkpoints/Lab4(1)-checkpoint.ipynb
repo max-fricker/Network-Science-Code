{
 "cells": [
  {
   "cell_type": "markdown",
   "metadata": {},
   "source": [
    "## Network Science Lab 4"
   ]
  },
  {
   "cell_type": "code",
   "execution_count": 1,
   "metadata": {},
   "outputs": [],
   "source": [
    "#Run this cell 1st to import numpy, matplotlib, and networkx\n",
    "import numpy as np\n",
    "import matplotlib.pyplot as plt\n",
    "import networkx as nx\n",
    "%matplotlib inline"
   ]
  },
  {
   "cell_type": "markdown",
   "metadata": {},
   "source": [
    "**1)** Consider the following code:\n",
    "\n",
    "G1 = nx.Graph()\n",
    "\n",
    "edges = [[1,2],[1,3],[1,2],[2,4],[3,4],[5,6]]\n",
    "\n",
    "G1.add_edges_from(edges)\n",
    "\n",
    "G2 = G1\n",
    "\n",
    "G2.add_edge(6,7)\n",
    "\n",
    "G1.add_edge(8,9)\n",
    "\n",
    "What will G1 and G2 be after this code has run? Check your conclusion by running the code and explain any discrepancies between what you expected and what you see."
   ]
  },
  {
   "cell_type": "code",
   "execution_count": 2,
   "metadata": {},
   "outputs": [],
   "source": [
    "G1 = nx.Graph()\n",
    "edges = [[1,2],[1,3],[1,2],[2,4],[3,4],[5,6]]\n",
    "G1.add_edges_from(edges)\n",
    "G2 = G1\n",
    "G2.add_edge(6,7)\n",
    "G1.add_edge(8,9)"
   ]
  },
  {
   "cell_type": "markdown",
   "metadata": {},
   "source": [
    "**2)** Consider the configuration model applied to the degree sequence below. Develop a numerical test of our result that the expected number of links between 2 nodes is $k_i k_j/(K-1)$. You do not need to check each distinct pair of nodes, but try a few. "
   ]
  },
  {
   "cell_type": "code",
   "execution_count": 3,
   "metadata": {},
   "outputs": [],
   "source": [
    "k = np.array([3, 5, 2, 2, 3, 2, 1, 1, 1]) #Degree sequence\n",
    "#Add code here\n"
   ]
  },
  {
   "cell_type": "markdown",
   "metadata": {},
   "source": [
    "**3.** The diameter in Barabasi-Albert graphs is epected to grow as $log(log(N))$ when the number of links added each iteration is two or larger. Check if this also applies to the average path length. Use *nx.barabasi_albert_graph*, set $m=2$, and choose values for $N$ in a sensible manner so that the computational time does not become excessive."
   ]
  },
  {
   "cell_type": "code",
   "execution_count": 4,
   "metadata": {},
   "outputs": [],
   "source": [
    "#Add code here\n",
    "\n",
    "\n"
   ]
  }
 ],
 "metadata": {
  "kernelspec": {
   "display_name": "Python 3 (ipykernel)",
   "language": "python",
   "name": "python3"
  },
  "language_info": {
   "codemirror_mode": {
    "name": "ipython",
    "version": 3
   },
   "file_extension": ".py",
   "mimetype": "text/x-python",
   "name": "python",
   "nbconvert_exporter": "python",
   "pygments_lexer": "ipython3",
   "version": "3.9.13"
  }
 },
 "nbformat": 4,
 "nbformat_minor": 1
}
