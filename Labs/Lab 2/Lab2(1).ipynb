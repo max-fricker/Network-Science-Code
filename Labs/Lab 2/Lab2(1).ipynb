{
 "cells": [
  {
   "cell_type": "markdown",
   "metadata": {},
   "source": [
    "## Network Science Lab"
   ]
  },
  {
   "cell_type": "markdown",
   "metadata": {},
   "source": [
    "### Task 1: working with Numpy arrays and sparse matrices"
   ]
  },
  {
   "cell_type": "markdown",
   "metadata": {},
   "source": [
    "numpy arrays and sparse matrices (see documentation for scipy.sparse: https://docs.scipy.org/doc/scipy/reference/sparse.html) are powerful tools provided that they are used properly. Key points are to avoid loops and unnecessary calculations and to use built-in methods and functions. In this task, you will carry out simple matrix calculations to build upon this idea"
   ]
  },
  {
   "cell_type": "markdown",
   "metadata": {},
   "source": [
    "Functions for loop-based and vectorized addition of two matrices are given below. The functions also return timing results."
   ]
  },
  {
   "cell_type": "code",
   "execution_count": 1,
   "metadata": {},
   "outputs": [],
   "source": [
    "import numpy as np\n",
    "import networkx as nx\n",
    "from time import time\n",
    "def add1(A,B):\n",
    "    \"\"\"Add two matrices of identical shape element-by-element and collect\n",
    "    timing information\"\"\"\n",
    "    C = A.copy()\n",
    "    N,M = A.shape\n",
    "    t1 = time()\n",
    "    for i in range(N):\n",
    "        for j in range(M):\n",
    "            C[i,j]=A[i,j]+B[i,j]\n",
    "    t2 = time()\n",
    "    return C,t2-t1\n",
    "\n",
    "def add2(A,B):\n",
    "    \"\"\" Vectorized addition of two arrays/matrices of identical shape; timing information\n",
    "    is also collected\"\"\"\n",
    "    t1 = time()\n",
    "    C = A+B\n",
    "    t2 = time()\n",
    "    return C,t2-t1\n",
    "    "
   ]
  },
  {
   "cell_type": "markdown",
   "metadata": {},
   "source": [
    "1) Generate two B-A graphs with N=5000, M=3. For each graph, generate two adjacency matrices, one stored as a sparse matrix and one stored as a numpy array"
   ]
  },
  {
   "cell_type": "code",
   "execution_count": 8,
   "metadata": {},
   "outputs": [],
   "source": [
    "G1 = nx.barabasi_albert_graph(n = 5000, m = 3)\n",
    "G2 = nx.barabasi_albert_graph(n = 5000, m = 3)\n",
    "\n",
    "A1S = nx.to_scipy_sparse_array(G1)\n",
    "A2S = nx.to_scipy_sparse_array(G2)\n",
    "\n",
    "A1A = nx.to_numpy_array(G1)\n",
    "A2A = nx.to_numpy_array(G1)"
   ]
  },
  {
   "cell_type": "markdown",
   "metadata": {},
   "source": [
    "2) Now compare the times taken for (a) loop-based addition of the two numpy arrays, (b) vectorized addition of the two numpy arrays, and (c) vectorized addition of the two sparse matrices. What do you observe? Can you explain your observations?"
   ]
  },
  {
   "cell_type": "code",
   "execution_count": 9,
   "metadata": {
    "scrolled": true
   },
   "outputs": [
    {
     "data": {
      "text/plain": [
       "(array([[0., 2., 2., ..., 0., 0., 0.],\n",
       "        [2., 0., 0., ..., 0., 0., 0.],\n",
       "        [2., 0., 0., ..., 0., 0., 0.],\n",
       "        ...,\n",
       "        [0., 0., 0., ..., 0., 0., 0.],\n",
       "        [0., 0., 0., ..., 0., 0., 0.],\n",
       "        [0., 0., 0., ..., 0., 0., 0.]]),\n",
       " 25.463724613189697)"
      ]
     },
     "execution_count": 9,
     "metadata": {},
     "output_type": "execute_result"
    }
   ],
   "source": [
    "add1(A1A, A2A)"
   ]
  },
  {
   "cell_type": "code",
   "execution_count": 10,
   "metadata": {},
   "outputs": [
    {
     "data": {
      "text/plain": [
       "(array([[0., 2., 2., ..., 0., 0., 0.],\n",
       "        [2., 0., 0., ..., 0., 0., 0.],\n",
       "        [2., 0., 0., ..., 0., 0., 0.],\n",
       "        ...,\n",
       "        [0., 0., 0., ..., 0., 0., 0.],\n",
       "        [0., 0., 0., ..., 0., 0., 0.],\n",
       "        [0., 0., 0., ..., 0., 0., 0.]]),\n",
       " 0.17705178260803223)"
      ]
     },
     "execution_count": 10,
     "metadata": {},
     "output_type": "execute_result"
    }
   ],
   "source": [
    "add2(A1A, A2A)"
   ]
  },
  {
   "cell_type": "code",
   "execution_count": 11,
   "metadata": {},
   "outputs": [
    {
     "data": {
      "text/plain": [
       "(<5000x5000 sparse array of type '<class 'numpy.intc'>'\n",
       " \twith 59770 stored elements in Compressed Sparse Row format>,\n",
       " 0.0029909610748291016)"
      ]
     },
     "execution_count": 11,
     "metadata": {},
     "output_type": "execute_result"
    }
   ],
   "source": [
    "add2(A1S, A2S)"
   ]
  },
  {
   "cell_type": "markdown",
   "metadata": {},
   "source": [
    "### Task 2: Computing the Katz centrality"
   ]
  },
  {
   "cell_type": "markdown",
   "metadata": {},
   "source": [
    "Here you will develop your own code to efficiently compute the Katz centrality of a Network. Generally, when starting a non-trivial programming task, it is highly-recommended to write down a plan on paper before you write any code. I cannot emphasize enough how highly-recommended this is. For this task, our plan is:\n",
    "1. Create a small test graph (using the B-A model)\n",
    "2. Extract the (sparse) adjacency matrix for the graph, $\\textrm{A}$\n",
    "3. Compute the most-positive eigenvalue of A, $\\lambda_1$\n",
    "4. Set the Katz parameter to be $\\alpha=0.9/\\lambda_1$\n",
    "5. Construct the (sparse) matrix, $\\textrm{M}=\\textrm{I}-\\alpha \\textrm{A}$ and the array corresponding to $\\textrm{z}$\n",
    "6. Solve the system of equations, $\\rm Mx=z$ to obtain the Katz centrality, $\\rm x$. \n",
    "See the cells below for more information on these steps."
   ]
  },
  {
   "cell_type": "code",
   "execution_count": 12,
   "metadata": {},
   "outputs": [],
   "source": [
    "#import needed modules and generate small test graph\n",
    "import numpy as np\n",
    "import networkx as nx\n",
    "import scipy.sparse as sp\n",
    "\n",
    "N = 20\n",
    "G = nx.barabasi_albert_graph(N,4)"
   ]
  },
  {
   "cell_type": "markdown",
   "metadata": {},
   "source": [
    "1) Extract the sparse adjacency matrix. Note that the elements the matrix will (probably) be integers, but one of the functions you will use below requires the float datatype. Use the *.astype()* method to convert the datatype of the elements in $\\rm A$. "
   ]
  },
  {
   "cell_type": "code",
   "execution_count": 13,
   "metadata": {},
   "outputs": [],
   "source": [
    "A = nx.to_scipy_sparse_array(G)\n",
    "\n",
    "A = A.astype(float) #Use this code to convert datatype of elements in A to float"
   ]
  },
  {
   "cell_type": "markdown",
   "metadata": {},
   "source": [
    "2) Now compute $\\lambda_1$ using *sp.linalg.eigsh*. Browse the documentation for the function here: https://docs.scipy.org/doc/scipy/reference/generated/scipy.sparse.linalg.eigsh.html#scipy.sparse.linalg.eigsh\n",
    "How should the input parameters *which* and *k* be set?"
   ]
  },
  {
   "cell_type": "code",
   "execution_count": 37,
   "metadata": {},
   "outputs": [
    {
     "data": {
      "text/plain": [
       "7.566068135366459"
      ]
     },
     "execution_count": 37,
     "metadata": {},
     "output_type": "execute_result"
    }
   ],
   "source": [
    "lambda1 = sp.linalg.eigsh(A, k = 1, which = 'LM')[0][0]\n",
    "\n",
    "lambda1"
   ]
  },
  {
   "cell_type": "markdown",
   "metadata": {},
   "source": [
    "3) Set $\\alpha=0.9/\\lambda_1$"
   ]
  },
  {
   "cell_type": "code",
   "execution_count": 32,
   "metadata": {},
   "outputs": [
    {
     "data": {
      "text/plain": [
       "0.11895214051709163"
      ]
     },
     "execution_count": 32,
     "metadata": {},
     "output_type": "execute_result"
    }
   ],
   "source": [
    "alpha = 0.9 / lambda1\n",
    "\n",
    "alpha"
   ]
  },
  {
   "cell_type": "markdown",
   "metadata": {},
   "source": [
    "4) Construct $\\rm M$ and $\\rm z$. Browse through the documentation on functions for building sparse matrices for helpful information on assembling $\\rm M$: https://docs.scipy.org/doc/scipy/reference/sparse.html#functions.    "
   ]
  },
  {
   "cell_type": "code",
   "execution_count": 33,
   "metadata": {},
   "outputs": [],
   "source": [
    "M = sp.identity(N) - alpha * A\n",
    "\n",
    "z = np.ones((N, 1))"
   ]
  },
  {
   "cell_type": "markdown",
   "metadata": {},
   "source": [
    "5) Solve the Katz system of equations using sp.linalg.spsolve to obtain $\\rm x$"
   ]
  },
  {
   "cell_type": "code",
   "execution_count": 38,
   "metadata": {},
   "outputs": [
    {
     "data": {
      "text/plain": [
       "array([16.81234779,  5.49144047, 10.03272553, 10.49598895,  6.4860662 ,\n",
       "       14.07489412, 13.56251622, 11.79701325,  9.37351687,  9.3234791 ,\n",
       "        8.05902958,  8.26688447,  5.59380275,  7.38351893,  7.17367368,\n",
       "        6.80090927,  6.42516289,  5.88034323,  6.76071288,  5.97999433])"
      ]
     },
     "execution_count": 38,
     "metadata": {},
     "output_type": "execute_result"
    }
   ],
   "source": [
    "x = sp.linalg.spsolve(M, z)\n",
    "\n",
    "x"
   ]
  },
  {
   "cell_type": "markdown",
   "metadata": {},
   "source": [
    "6) Check that your centrality vector does not have elements of differing sign. How else could you check the correctness of your result?"
   ]
  },
  {
   "cell_type": "markdown",
   "metadata": {},
   "source": [
    "7) The cell below loads a co-appearance network for 77 characters in the Victor Hugo novel, [Les Miserables](https://en.wikipedia.org/wiki/Les_Misérables). It also produces lists of node names and degrees. Compute the Katz centrality for the network and make a plot of the Katz centrality vs. node degree. Are there notable differences?"
   ]
  },
  {
   "cell_type": "code",
   "execution_count": 48,
   "metadata": {},
   "outputs": [
    {
     "data": {
      "text/plain": [
       "Text(0, 0.5, 'Degree')"
      ]
     },
     "execution_count": 48,
     "metadata": {},
     "output_type": "execute_result"
    },
    {
     "data": {
      "image/png": "[encoded data removed]",
      "text/plain": [
       "<Figure size 640x480 with 1 Axes>"
      ]
     },
     "metadata": {},
     "output_type": "display_data"
    }
   ],
   "source": [
    "import matplotlib.pyplot as plt\n",
    "G = nx.les_miserables_graph()\n",
    "N = G.number_of_nodes()\n",
    "names = list(G.nodes()) #character names\n",
    "k = list(dict(nx.degree(G)).values()) #node degrees\n",
    "\n",
    "#Add code to compute Katz centrality\n",
    "\n",
    "A = nx.to_scipy_sparse_array(G)\n",
    "\n",
    "A = A.astype(float)\n",
    "\n",
    "lambda1 = sp.linalg.eigsh(A, k = 1, which = 'LM')[0][0]\n",
    "\n",
    "alpha = 0.9 / lambda1\n",
    "\n",
    "M = sp.identity(N) - alpha * A\n",
    "\n",
    "z = np.ones((N, 1))\n",
    "\n",
    "x = sp.linalg.spsolve(M, z)\n",
    "\n",
    "x\n",
    "\n",
    "#Add code to make plot comparing Katz centrality and node degrees\n",
    "\n",
    "y = np.arange(N)\n",
    "\n",
    "plt.plot(x, k, '.')\n",
    "\n",
    "plt.xlabel('Katz Centrality')\n",
    "plt.ylabel('Degree')"
   ]
  },
  {
   "cell_type": "markdown",
   "metadata": {},
   "source": [
    "*Add explanation here*\n"
   ]
  },
  {
   "cell_type": "markdown",
   "metadata": {},
   "source": [
    "**Note:** Very old versions of NetworkX (like those that may be found on MLC computers) may not have the nx.les_miserables_graph() function. If that is the case, update NetworkX using the command below, restart the kernel via the \"Kernel\" menu above, and then try to use the function."
   ]
  },
  {
   "cell_type": "code",
   "execution_count": null,
   "metadata": {},
   "outputs": [],
   "source": [
    "# Uncomment code below and run cell if needed.\n",
    "# !pip install --upgrade networkx"
   ]
  }
 ],
 "metadata": {
  "kernelspec": {
   "display_name": "Python 3 (ipykernel)",
   "language": "python",
   "name": "python3"
  },
  "language_info": {
   "codemirror_mode": {
    "name": "ipython",
    "version": 3
   },
   "file_extension": ".py",
   "mimetype": "text/x-python",
   "name": "python",
   "nbconvert_exporter": "python",
   "pygments_lexer": "ipython3",
   "version": "3.8.8"
  }
 },
 "nbformat": 4,
 "nbformat_minor": 1
}
