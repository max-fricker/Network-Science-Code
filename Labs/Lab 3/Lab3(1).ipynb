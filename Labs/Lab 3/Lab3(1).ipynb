{
 "cells": [
  {
   "cell_type": "markdown",
   "metadata": {},
   "source": [
    "## Network Science Lab 3"
   ]
  },
  {
   "cell_type": "code",
   "execution_count": 1,
   "metadata": {},
   "outputs": [],
   "source": [
    "#Run this cell 1st to import numpy, matplotlib, and networkx\n",
    "import networkx as nx\n",
    "import numpy as np\n",
    "import matplotlib.pyplot as plt\n",
    "%matplotlib inline"
   ]
  },
  {
   "cell_type": "markdown",
   "metadata": {},
   "source": [
    "### Part 1: Working with weighted directed graphs in NetworkX"
   ]
  },
  {
   "cell_type": "markdown",
   "metadata": {},
   "source": [
    "In part 1, you will carry out a few simple tasks using a NetworkX weighted directed graph. Run the cell below to generate the graph. Note that we use *nx.DiGraph()* to initialize a directed graph."
   ]
  },
  {
   "cell_type": "code",
   "execution_count": 2,
   "metadata": {},
   "outputs": [
    {
     "data": {
      "image/png": "[encoded data removed]",
      "text/plain": [
       "<Figure size 640x480 with 1 Axes>"
      ]
     },
     "metadata": {},
     "output_type": "display_data"
    }
   ],
   "source": [
    "G = nx.DiGraph()\n",
    "\n",
    "G.add_edge(1, 2, ewt=0.6)\n",
    "G.add_edge(1, 3, ewt=0.2)\n",
    "G.add_edge(3, 4, ewt=0.1)\n",
    "G.add_edge(3, 5, ewt=0.7)\n",
    "G.add_edge(3, 6, ewt=0.9)\n",
    "G.add_edge(1, 4, ewt=0.3)\n",
    "\n",
    "plt.figure()\n",
    "nx.draw(G,with_labels=True)"
   ]
  },
  {
   "cell_type": "markdown",
   "metadata": {},
   "source": [
    "The edge weights can be added to the plot, see the example [here](https://networkx.org/documentation/stable/auto_examples/drawing/plot_weighted_graph.html) if you would like to see how."
   ]
  },
  {
   "cell_type": "markdown",
   "metadata": {},
   "source": [
    "1) There are many methods and functions in Networkx that have an option to output or to use the edge weights. Read through the documentation for G.edges(), and call it so that it outputs all of the edges and their weights. Use this output to create a 6 x 3 Numpy array where a row contains the two nodes forming an edge and the corresponding edge weight. It may be helpful to first convert the output to a list and then convert the list to an array.\n",
    "Note that you will have to specify the label for the weights, 'ewt' (see the code used to generate the graph). Print your array and compare it to the code for creating the graph above."
   ]
  },
  {
   "cell_type": "code",
   "execution_count": 9,
   "metadata": {},
   "outputs": [
    {
     "data": {
      "text/plain": [
       "array([[1. , 2. , 0.6],\n",
       "       [1. , 3. , 0.2],\n",
       "       [1. , 4. , 0.3],\n",
       "       [3. , 4. , 0.1],\n",
       "       [3. , 5. , 0.7],\n",
       "       [3. , 6. , 0.9]])"
      ]
     },
     "execution_count": 9,
     "metadata": {},
     "output_type": "execute_result"
    }
   ],
   "source": [
    "#Add code here\n",
    "\n",
    "np.array(list(G.edges.data('ewt')))"
   ]
  },
  {
   "cell_type": "markdown",
   "metadata": {},
   "source": [
    "2) NetworkX **does not** use the same convention for adjacency matrices of directed graphs that we have been using. Create the adjacency matrix for the graph above, take the transpose, and verify that the resulting matrix is what you would expect based on our convention."
   ]
  },
  {
   "cell_type": "code",
   "execution_count": 10,
   "metadata": {},
   "outputs": [
    {
     "data": {
      "text/plain": [
       "matrix([[0., 0., 0., 0., 0., 0.],\n",
       "        [1., 0., 0., 0., 0., 0.],\n",
       "        [1., 0., 0., 0., 0., 0.],\n",
       "        [1., 0., 1., 0., 0., 0.],\n",
       "        [0., 0., 1., 0., 0., 0.],\n",
       "        [0., 0., 1., 0., 0., 0.]])"
      ]
     },
     "execution_count": 10,
     "metadata": {},
     "output_type": "execute_result"
    }
   ],
   "source": [
    "#Add code here\n",
    "\n",
    "A = nx.to_numpy_matrix(G)\n",
    "\n",
    "A.transpose()"
   ]
  },
  {
   "cell_type": "markdown",
   "metadata": {},
   "source": [
    "3) Now use nx.adjacency_matrix to create the *weight matrix*, $\\rm W$ for the graph. This matrix should store the edge weight for the edge from $j$ to $i$ in $W_{ij}$, and if no such edge exists then $W_{ij}=0$. "
   ]
  },
  {
   "cell_type": "code",
   "execution_count": 16,
   "metadata": {},
   "outputs": [
    {
     "name": "stdout",
     "output_type": "stream",
     "text": [
      "[[0.  0.6 0.2 0.3 0.  0. ]\n",
      " [0.  0.  0.  0.  0.  0. ]\n",
      " [0.  0.  0.  0.1 0.7 0.9]\n",
      " [0.  0.  0.  0.  0.  0. ]\n",
      " [0.  0.  0.  0.  0.  0. ]\n",
      " [0.  0.  0.  0.  0.  0. ]]\n"
     ]
    }
   ],
   "source": [
    "#Add code here\n",
    "\n",
    "W = nx.to_numpy_array(G, weight = 'ewt')\n",
    "\n",
    "print(W)"
   ]
  },
  {
   "cell_type": "markdown",
   "metadata": {},
   "source": [
    "### Part 2: Numerical estimation of the number of triangles in $G_{Np}$ graphs"
   ]
  },
  {
   "cell_type": "markdown",
   "metadata": {},
   "source": [
    "In lecture 5, we argued that the expected number of triangles in $G_{Np}$ graphs is ${N \\choose 3} p^3$. But is this result really correct? We can check it by simulating several $G_{Np}$ graphs and computing the average number of triangles per graph. The first function in the cell below counts the total number of triangles in a NetworkX graph while the second computes the expected number of triangles."
   ]
  },
  {
   "cell_type": "code",
   "execution_count": 20,
   "metadata": {},
   "outputs": [],
   "source": [
    "def count_triangles(G):\n",
    "    \"\"\"Returns total number of triangles in G\n",
    "    \"\"\"\n",
    "    t = nx.triangles(G)\n",
    "    return np.sum(list(t.values()))/3\n",
    "\n",
    "from scipy.special import comb\n",
    "def expected_triangles(N,p):\n",
    "    \"\"\"Expected number of triangles in GNp graph\n",
    "    \"\"\"\n",
    "    return comb(N,3)*p**3"
   ]
  },
  {
   "cell_type": "markdown",
   "metadata": {},
   "source": [
    "1) Add code to the cell below to simulate 10000 GNp graphs with $N=100$ and $p=0.12$. Store the number of triangles in each graph in a numpy array"
   ]
  },
  {
   "cell_type": "code",
   "execution_count": 23,
   "metadata": {},
   "outputs": [
    {
     "data": {
      "text/plain": [
       "array([268., 272., 306., ..., 332., 262., 292.])"
      ]
     },
     "execution_count": 23,
     "metadata": {},
     "output_type": "execute_result"
    }
   ],
   "source": [
    "#Add code here\n",
    "\n",
    "lis = []\n",
    "\n",
    "for r in range(10000):\n",
    "    lis.append(count_triangles(nx.gnp_random_graph(100, 0.12)))\n",
    "\n",
    "numtriangles = np.array(lis)\n",
    "numtriangles"
   ]
  },
  {
   "cell_type": "markdown",
   "metadata": {},
   "source": [
    "2) Create a numpy array whose ith element contains the average number of triangles in the first i+1 graphs simulated above (here i ranges from 0 to 9999). *np.cumsum* may be helpful for this task."
   ]
  },
  {
   "cell_type": "code",
   "execution_count": 27,
   "metadata": {},
   "outputs": [
    {
     "data": {
      "text/plain": [
       "array([270.        , 282.        , 261.5       , ..., 279.31556311,\n",
       "       279.31383138, 279.3151    ])"
      ]
     },
     "execution_count": 27,
     "metadata": {},
     "output_type": "execute_result"
    }
   ],
   "source": [
    "avg = []\n",
    "\n",
    "for i in range(9999):\n",
    "    avg.append(np.sum(numtriangles[0:i+2]) / (i+2))\n",
    "    \n",
    "avgtriangles = np.array(avg)\n",
    "\n",
    "avgtriangles"
   ]
  },
  {
   "cell_type": "markdown",
   "metadata": {},
   "source": [
    "3) Finally, make a plot showing how the average number of triangles varies with the number of graphs used to compute the average. Are the computed averages close to the expected number of triangles?"
   ]
  },
  {
   "cell_type": "code",
   "execution_count": 34,
   "metadata": {},
   "outputs": [
    {
     "ename": "ValueError",
     "evalue": "x and y must have same first dimension, but have shapes (10000,) and (999,)",
     "output_type": "error",
     "traceback": [
      "\u001b[1;31m---------------------------------------------------------------------------\u001b[0m",
      "\u001b[1;31mValueError\u001b[0m                                Traceback (most recent call last)",
      "Input \u001b[1;32mIn [34]\u001b[0m, in \u001b[0;36m<cell line: 1>\u001b[1;34m()\u001b[0m\n\u001b[1;32m----> 1\u001b[0m \u001b[43mplt\u001b[49m\u001b[38;5;241;43m.\u001b[39;49m\u001b[43mplot\u001b[49m\u001b[43m(\u001b[49m\u001b[43m[\u001b[49m\u001b[43mi\u001b[49m\u001b[43m \u001b[49m\u001b[38;5;28;43;01mfor\u001b[39;49;00m\u001b[43m \u001b[49m\u001b[43mi\u001b[49m\u001b[43m \u001b[49m\u001b[38;5;129;43;01min\u001b[39;49;00m\u001b[43m \u001b[49m\u001b[38;5;28;43mrange\u001b[39;49m\u001b[43m(\u001b[49m\u001b[38;5;241;43m10000\u001b[39;49m\u001b[43m)\u001b[49m\u001b[43m]\u001b[49m\u001b[43m,\u001b[49m\u001b[43m \u001b[49m\u001b[43mavgtriangles\u001b[49m\u001b[43m)\u001b[49m\n",
      "File \u001b[1;32m~\\anaconda3\\lib\\site-packages\\matplotlib\\pyplot.py:2769\u001b[0m, in \u001b[0;36mplot\u001b[1;34m(scalex, scaley, data, *args, **kwargs)\u001b[0m\n\u001b[0;32m   2767\u001b[0m \u001b[38;5;129m@_copy_docstring_and_deprecators\u001b[39m(Axes\u001b[38;5;241m.\u001b[39mplot)\n\u001b[0;32m   2768\u001b[0m \u001b[38;5;28;01mdef\u001b[39;00m \u001b[38;5;21mplot\u001b[39m(\u001b[38;5;241m*\u001b[39margs, scalex\u001b[38;5;241m=\u001b[39m\u001b[38;5;28;01mTrue\u001b[39;00m, scaley\u001b[38;5;241m=\u001b[39m\u001b[38;5;28;01mTrue\u001b[39;00m, data\u001b[38;5;241m=\u001b[39m\u001b[38;5;28;01mNone\u001b[39;00m, \u001b[38;5;241m*\u001b[39m\u001b[38;5;241m*\u001b[39mkwargs):\n\u001b[1;32m-> 2769\u001b[0m     \u001b[38;5;28;01mreturn\u001b[39;00m \u001b[43mgca\u001b[49m\u001b[43m(\u001b[49m\u001b[43m)\u001b[49m\u001b[38;5;241;43m.\u001b[39;49m\u001b[43mplot\u001b[49m\u001b[43m(\u001b[49m\n\u001b[0;32m   2770\u001b[0m \u001b[43m        \u001b[49m\u001b[38;5;241;43m*\u001b[39;49m\u001b[43margs\u001b[49m\u001b[43m,\u001b[49m\u001b[43m \u001b[49m\u001b[43mscalex\u001b[49m\u001b[38;5;241;43m=\u001b[39;49m\u001b[43mscalex\u001b[49m\u001b[43m,\u001b[49m\u001b[43m \u001b[49m\u001b[43mscaley\u001b[49m\u001b[38;5;241;43m=\u001b[39;49m\u001b[43mscaley\u001b[49m\u001b[43m,\u001b[49m\n\u001b[0;32m   2771\u001b[0m \u001b[43m        \u001b[49m\u001b[38;5;241;43m*\u001b[39;49m\u001b[38;5;241;43m*\u001b[39;49m\u001b[43m(\u001b[49m\u001b[43m{\u001b[49m\u001b[38;5;124;43m\"\u001b[39;49m\u001b[38;5;124;43mdata\u001b[39;49m\u001b[38;5;124;43m\"\u001b[39;49m\u001b[43m:\u001b[49m\u001b[43m \u001b[49m\u001b[43mdata\u001b[49m\u001b[43m}\u001b[49m\u001b[43m \u001b[49m\u001b[38;5;28;43;01mif\u001b[39;49;00m\u001b[43m \u001b[49m\u001b[43mdata\u001b[49m\u001b[43m \u001b[49m\u001b[38;5;129;43;01mis\u001b[39;49;00m\u001b[43m \u001b[49m\u001b[38;5;129;43;01mnot\u001b[39;49;00m\u001b[43m \u001b[49m\u001b[38;5;28;43;01mNone\u001b[39;49;00m\u001b[43m \u001b[49m\u001b[38;5;28;43;01melse\u001b[39;49;00m\u001b[43m \u001b[49m\u001b[43m{\u001b[49m\u001b[43m}\u001b[49m\u001b[43m)\u001b[49m\u001b[43m,\u001b[49m\u001b[43m \u001b[49m\u001b[38;5;241;43m*\u001b[39;49m\u001b[38;5;241;43m*\u001b[39;49m\u001b[43mkwargs\u001b[49m\u001b[43m)\u001b[49m\n",
      "File \u001b[1;32m~\\anaconda3\\lib\\site-packages\\matplotlib\\axes\\_axes.py:1632\u001b[0m, in \u001b[0;36mAxes.plot\u001b[1;34m(self, scalex, scaley, data, *args, **kwargs)\u001b[0m\n\u001b[0;32m   1390\u001b[0m \u001b[38;5;124;03m\"\"\"\u001b[39;00m\n\u001b[0;32m   1391\u001b[0m \u001b[38;5;124;03mPlot y versus x as lines and/or markers.\u001b[39;00m\n\u001b[0;32m   1392\u001b[0m \n\u001b[1;32m   (...)\u001b[0m\n\u001b[0;32m   1629\u001b[0m \u001b[38;5;124;03m(``'green'``) or hex strings (``'#008000'``).\u001b[39;00m\n\u001b[0;32m   1630\u001b[0m \u001b[38;5;124;03m\"\"\"\u001b[39;00m\n\u001b[0;32m   1631\u001b[0m kwargs \u001b[38;5;241m=\u001b[39m cbook\u001b[38;5;241m.\u001b[39mnormalize_kwargs(kwargs, mlines\u001b[38;5;241m.\u001b[39mLine2D)\n\u001b[1;32m-> 1632\u001b[0m lines \u001b[38;5;241m=\u001b[39m [\u001b[38;5;241m*\u001b[39m\u001b[38;5;28mself\u001b[39m\u001b[38;5;241m.\u001b[39m_get_lines(\u001b[38;5;241m*\u001b[39margs, data\u001b[38;5;241m=\u001b[39mdata, \u001b[38;5;241m*\u001b[39m\u001b[38;5;241m*\u001b[39mkwargs)]\n\u001b[0;32m   1633\u001b[0m \u001b[38;5;28;01mfor\u001b[39;00m line \u001b[38;5;129;01min\u001b[39;00m lines:\n\u001b[0;32m   1634\u001b[0m     \u001b[38;5;28mself\u001b[39m\u001b[38;5;241m.\u001b[39madd_line(line)\n",
      "File \u001b[1;32m~\\anaconda3\\lib\\site-packages\\matplotlib\\axes\\_base.py:312\u001b[0m, in \u001b[0;36m_process_plot_var_args.__call__\u001b[1;34m(self, data, *args, **kwargs)\u001b[0m\n\u001b[0;32m    310\u001b[0m     this \u001b[38;5;241m+\u001b[39m\u001b[38;5;241m=\u001b[39m args[\u001b[38;5;241m0\u001b[39m],\n\u001b[0;32m    311\u001b[0m     args \u001b[38;5;241m=\u001b[39m args[\u001b[38;5;241m1\u001b[39m:]\n\u001b[1;32m--> 312\u001b[0m \u001b[38;5;28;01myield from\u001b[39;00m \u001b[38;5;28;43mself\u001b[39;49m\u001b[38;5;241;43m.\u001b[39;49m\u001b[43m_plot_args\u001b[49m\u001b[43m(\u001b[49m\u001b[43mthis\u001b[49m\u001b[43m,\u001b[49m\u001b[43m \u001b[49m\u001b[43mkwargs\u001b[49m\u001b[43m)\u001b[49m\n",
      "File \u001b[1;32m~\\anaconda3\\lib\\site-packages\\matplotlib\\axes\\_base.py:498\u001b[0m, in \u001b[0;36m_process_plot_var_args._plot_args\u001b[1;34m(self, tup, kwargs, return_kwargs)\u001b[0m\n\u001b[0;32m    495\u001b[0m     \u001b[38;5;28mself\u001b[39m\u001b[38;5;241m.\u001b[39maxes\u001b[38;5;241m.\u001b[39myaxis\u001b[38;5;241m.\u001b[39mupdate_units(y)\n\u001b[0;32m    497\u001b[0m \u001b[38;5;28;01mif\u001b[39;00m x\u001b[38;5;241m.\u001b[39mshape[\u001b[38;5;241m0\u001b[39m] \u001b[38;5;241m!=\u001b[39m y\u001b[38;5;241m.\u001b[39mshape[\u001b[38;5;241m0\u001b[39m]:\n\u001b[1;32m--> 498\u001b[0m     \u001b[38;5;28;01mraise\u001b[39;00m \u001b[38;5;167;01mValueError\u001b[39;00m(\u001b[38;5;124mf\u001b[39m\u001b[38;5;124m\"\u001b[39m\u001b[38;5;124mx and y must have same first dimension, but \u001b[39m\u001b[38;5;124m\"\u001b[39m\n\u001b[0;32m    499\u001b[0m                      \u001b[38;5;124mf\u001b[39m\u001b[38;5;124m\"\u001b[39m\u001b[38;5;124mhave shapes \u001b[39m\u001b[38;5;132;01m{\u001b[39;00mx\u001b[38;5;241m.\u001b[39mshape\u001b[38;5;132;01m}\u001b[39;00m\u001b[38;5;124m and \u001b[39m\u001b[38;5;132;01m{\u001b[39;00my\u001b[38;5;241m.\u001b[39mshape\u001b[38;5;132;01m}\u001b[39;00m\u001b[38;5;124m\"\u001b[39m)\n\u001b[0;32m    500\u001b[0m \u001b[38;5;28;01mif\u001b[39;00m x\u001b[38;5;241m.\u001b[39mndim \u001b[38;5;241m>\u001b[39m \u001b[38;5;241m2\u001b[39m \u001b[38;5;129;01mor\u001b[39;00m y\u001b[38;5;241m.\u001b[39mndim \u001b[38;5;241m>\u001b[39m \u001b[38;5;241m2\u001b[39m:\n\u001b[0;32m    501\u001b[0m     \u001b[38;5;28;01mraise\u001b[39;00m \u001b[38;5;167;01mValueError\u001b[39;00m(\u001b[38;5;124mf\u001b[39m\u001b[38;5;124m\"\u001b[39m\u001b[38;5;124mx and y can be no greater than 2D, but have \u001b[39m\u001b[38;5;124m\"\u001b[39m\n\u001b[0;32m    502\u001b[0m                      \u001b[38;5;124mf\u001b[39m\u001b[38;5;124m\"\u001b[39m\u001b[38;5;124mshapes \u001b[39m\u001b[38;5;132;01m{\u001b[39;00mx\u001b[38;5;241m.\u001b[39mshape\u001b[38;5;132;01m}\u001b[39;00m\u001b[38;5;124m and \u001b[39m\u001b[38;5;132;01m{\u001b[39;00my\u001b[38;5;241m.\u001b[39mshape\u001b[38;5;132;01m}\u001b[39;00m\u001b[38;5;124m\"\u001b[39m)\n",
      "\u001b[1;31mValueError\u001b[0m: x and y must have same first dimension, but have shapes (10000,) and (999,)"
     ]
    },
    {
     "data": {
      "image/png": "[encoded data removed]",
      "text/plain": [
       "<Figure size 640x480 with 1 Axes>"
      ]
     },
     "metadata": {},
     "output_type": "display_data"
    }
   ],
   "source": [
    "plt.plot([i for i in range(999)], avgtriangles)"
   ]
  },
  {
   "cell_type": "code",
   "execution_count": 30,
   "metadata": {},
   "outputs": [
    {
     "data": {
      "text/plain": [
       "array([333.        , 342.        , 335.25      , 334.2       ,\n",
       "       330.33333333, 325.14285714, 313.5       , 302.22222222,\n",
       "       300.9       , 296.72727273, 297.75      , 296.        ,\n",
       "       293.64285714, 293.86666667, 293.5       , 292.05882353,\n",
       "       294.77777778, 291.78947368, 290.95      , 292.9047619 ,\n",
       "       292.81818182, 292.2173913 , 291.66666667, 291.84      ,\n",
       "       290.26923077, 291.62962963, 292.64285714, 292.06896552,\n",
       "       290.96666667, 291.64516129, 290.34375   , 288.87878788,\n",
       "       287.67647059, 286.31428571, 286.36111111, 287.24324324,\n",
       "       286.52631579, 286.46153846, 286.05      , 284.97560976,\n",
       "       283.57142857, 283.39534884, 282.06818182, 282.73333333,\n",
       "       282.13043478, 282.57446809, 282.1875    , 281.24489796,\n",
       "       280.92      , 281.58823529, 281.36538462, 282.79245283,\n",
       "       281.11111111, 280.72727273, 281.08928571, 281.77192982,\n",
       "       281.81034483, 281.88135593, 281.98333333, 283.70491803,\n",
       "       284.27419355, 283.77777778, 286.03125   , 285.84615385,\n",
       "       284.71212121, 285.64179104, 285.79411765, 286.02898551,\n",
       "       285.04285714, 284.3943662 , 284.56944444, 284.2739726 ,\n",
       "       284.25675676, 284.48      , 285.10526316, 285.44155844,\n",
       "       286.03846154, 286.10126582, 285.9625    , 285.55555556,\n",
       "       285.04878049, 285.26506024, 285.77380952, 285.83529412,\n",
       "       285.91860465, 285.89655172, 286.04545455, 285.76404494,\n",
       "       285.88888889, 286.15384615, 285.77173913, 285.78494624,\n",
       "       285.70212766, 285.51578947, 285.54166667, 284.92783505,\n",
       "       284.95918367, 284.63636364, 284.54      ])"
      ]
     },
     "execution_count": 30,
     "metadata": {},
     "output_type": "execute_result"
    }
   ],
   "source": [
    "lis = []\n",
    "\n",
    "for r in range(100):\n",
    "    lis.append(count_triangles(nx.gnp_random_graph(100, 0.12)))\n",
    "\n",
    "numtriangles = np.array(lis)\n",
    "\n",
    "avg = []\n",
    "\n",
    "for i in range(99):\n",
    "    avg.append(np.sum(numtriangles[0:i+2]) / (i+2))\n",
    "    \n",
    "avgtriangles = np.array(avg)\n",
    "\n",
    "avgtriangles"
   ]
  },
  {
   "cell_type": "code",
   "execution_count": 31,
   "metadata": {},
   "outputs": [
    {
     "data": {
      "text/plain": [
       "array([259.5       , 272.33333333, 263.        , 264.2       ,\n",
       "       273.33333333, 274.14285714, 274.        , 277.22222222,\n",
       "       279.7       , 282.54545455, 284.58333333, 285.30769231,\n",
       "       283.5       , 281.06666667, 282.8125    , 278.23529412,\n",
       "       279.94444444, 277.10526316, 276.35      , 276.42857143,\n",
       "       276.36363636, 275.47826087, 273.20833333, 272.12      ,\n",
       "       273.15384615, 272.59259259, 272.21428571, 275.17241379,\n",
       "       275.6       , 275.09677419, 277.65625   , 278.27272727,\n",
       "       278.05882353, 278.62857143, 279.47222222, 278.18918919,\n",
       "       278.47368421, 279.56410256, 279.65      , 279.2195122 ,\n",
       "       279.19047619, 279.65116279, 281.47727273, 281.4       ,\n",
       "       281.06521739, 282.23404255, 281.14583333, 281.51020408,\n",
       "       280.5       , 280.66666667, 280.78846154, 281.9245283 ,\n",
       "       281.92592593, 282.32727273, 282.66071429, 283.07017544,\n",
       "       282.67241379, 281.6779661 , 281.55      , 281.55737705,\n",
       "       281.74193548, 282.0952381 , 282.078125  , 281.86153846,\n",
       "       281.95454545, 281.40298507, 281.47058824, 281.47826087,\n",
       "       280.87142857, 280.29577465, 279.54166667, 278.94520548,\n",
       "       278.67567568, 278.86666667, 278.93421053, 279.16883117,\n",
       "       278.8974359 , 278.82278481, 278.6625    , 278.4691358 ,\n",
       "       278.46341463, 278.91566265, 278.92857143, 279.51764706,\n",
       "       279.65116279, 280.03448276, 280.20454545, 280.42696629,\n",
       "       280.6       , 280.45054945, 280.13043478, 280.19354839,\n",
       "       279.9787234 , 280.81052632, 281.27083333, 280.96907216,\n",
       "       280.63265306, 280.53535354, 279.93      , 280.01980198,\n",
       "       279.81372549, 280.12621359, 279.5       , 279.48571429,\n",
       "       280.06603774, 279.90654206, 279.81481481, 279.75229358,\n",
       "       279.62727273, 279.30630631, 279.59821429, 279.51327434,\n",
       "       279.78947368, 280.2       , 279.80172414, 280.17948718,\n",
       "       280.07627119, 279.55462185, 279.35      , 279.52066116,\n",
       "       279.24590164, 279.2195122 , 279.21774194, 279.16      ,\n",
       "       279.49206349, 279.7007874 , 279.34375   , 279.17829457,\n",
       "       279.40769231, 279.28244275, 279.16666667, 279.08270677,\n",
       "       279.37313433, 279.5037037 , 279.72058824, 279.96350365,\n",
       "       280.52898551, 280.84172662, 280.9       , 281.31205674,\n",
       "       281.75352113, 281.71328671, 281.875     , 281.96551724,\n",
       "       281.71917808, 281.14285714, 281.14864865, 281.08053691,\n",
       "       281.05333333, 280.98675497, 280.64473684, 280.63398693,\n",
       "       280.66883117, 280.80645161, 280.96794872, 280.64968153,\n",
       "       281.00632911, 280.71069182, 280.83125   , 281.24223602,\n",
       "       281.34567901, 281.08588957, 281.07317073, 281.82424242,\n",
       "       281.74698795, 281.76047904, 281.60714286, 281.4260355 ,\n",
       "       281.47647059, 281.54385965, 281.43604651, 281.73988439,\n",
       "       281.87356322, 281.92      , 281.77272727, 281.75141243,\n",
       "       281.44382022, 281.33519553, 281.15      , 281.09392265,\n",
       "       281.03846154, 280.75409836, 280.68478261, 280.75135135,\n",
       "       281.01612903, 280.97860963, 281.0106383 , 280.58201058,\n",
       "       280.38947368, 280.14136126, 280.203125  , 280.19689119,\n",
       "       280.20618557, 280.30769231, 280.01020408, 280.        ,\n",
       "       280.06565657, 280.        , 280.165     , 280.25373134,\n",
       "       280.02970297, 279.81773399, 280.21078431, 280.14146341,\n",
       "       280.02912621, 279.95169082, 279.95673077, 280.13875598,\n",
       "       279.9952381 , 279.87203791, 280.16037736, 280.21596244,\n",
       "       279.93457944, 279.8744186 , 279.72222222, 279.60829493,\n",
       "       279.25688073, 278.93150685, 278.70454545, 278.66968326,\n",
       "       278.81081081, 278.66816143, 278.5625    , 278.43555556,\n",
       "       278.35840708, 278.31277533, 278.39912281, 278.40174672,\n",
       "       278.26086957, 278.16017316, 278.03017241, 277.82403433,\n",
       "       277.83760684, 277.8       , 277.61016949, 277.61181435,\n",
       "       277.64705882, 277.50209205, 277.4375    , 277.406639  ,\n",
       "       277.39256198, 277.2962963 , 277.21311475, 277.09387755,\n",
       "       277.03658537, 277.41700405, 277.56854839, 277.48995984,\n",
       "       277.412     , 277.39043825, 277.45238095, 277.56521739,\n",
       "       277.64173228, 277.72156863, 277.90625   , 277.84435798,\n",
       "       277.84496124, 277.83783784, 278.11153846, 278.19923372,\n",
       "       278.16030534, 278.18631179, 278.375     , 278.69056604,\n",
       "       278.69548872, 278.71535581, 278.80223881, 278.78810409,\n",
       "       278.87777778, 278.84870849, 278.91176471, 278.78021978,\n",
       "       278.8540146 , 278.86545455, 278.81884058, 278.78700361,\n",
       "       278.95683453, 279.03225806, 279.11785714, 279.32740214,\n",
       "       279.29787234, 279.31448763, 279.33802817, 279.2       ,\n",
       "       279.22377622, 279.1184669 , 279.10763889, 279.17301038,\n",
       "       279.00344828, 279.05154639, 279.23630137, 279.27303754,\n",
       "       279.2585034 , 279.31864407, 279.51689189, 279.44107744,\n",
       "       279.53020134, 279.37123746, 279.53666667, 279.54817276,\n",
       "       279.66556291, 279.78217822, 279.80592105, 279.97704918,\n",
       "       279.95098039, 279.92833876, 279.98051948, 280.29449838,\n",
       "       280.23548387, 280.29581994, 280.44871795, 280.48881789,\n",
       "       280.21656051, 280.31428571, 280.25632911, 280.30283912,\n",
       "       280.16037736, 280.19122257, 280.1875    , 280.13395639,\n",
       "       280.0931677 , 279.9752322 , 280.16975309, 280.02461538,\n",
       "       280.02453988, 279.93272171, 280.09756098, 280.08206687,\n",
       "       280.01212121, 280.        , 280.03614458, 280.10810811,\n",
       "       280.27844311, 280.20298507, 280.13988095, 280.08605341,\n",
       "       280.15384615, 280.1740413 , 280.08823529, 280.16715543,\n",
       "       280.12865497, 280.28279883, 280.39244186, 280.30144928,\n",
       "       280.29479769, 280.36599424, 280.38505747, 280.43839542,\n",
       "       280.54857143, 280.5042735 , 280.44602273, 280.58073654,\n",
       "       280.52259887, 280.56056338, 280.59831461, 280.60784314,\n",
       "       280.64804469, 280.73537604, 280.73055556, 280.61772853,\n",
       "       280.69060773, 280.55371901, 280.40659341, 280.44109589,\n",
       "       280.40437158, 280.47138965, 280.55434783, 280.6802168 ,\n",
       "       280.57837838, 280.54447439, 280.63709677, 280.64075067,\n",
       "       280.54010695, 280.49866667, 280.63829787, 280.70291777,\n",
       "       280.55026455, 280.62532982, 280.64473684, 280.7007874 ,\n",
       "       280.61780105, 280.61096606, 280.703125  , 280.76883117,\n",
       "       280.78756477, 280.75968992, 280.97164948, 280.88946015,\n",
       "       280.77692308, 280.73657289, 280.75      , 280.71501272,\n",
       "       280.62436548, 280.70126582, 280.7020202 , 280.697733  ,\n",
       "       280.81155779, 280.83458647, 280.765     , 280.82543641,\n",
       "       280.85074627, 280.83870968, 280.81435644, 280.79753086,\n",
       "       280.77586207, 280.88697789, 280.7377451 , 280.80684597,\n",
       "       280.79756098, 280.73722628, 280.77669903, 280.69491525,\n",
       "       280.66908213, 280.68915663, 280.62259615, 280.50359712,\n",
       "       280.57655502, 280.66825776, 280.72857143, 280.63657957,\n",
       "       280.8056872 , 280.73286052, 280.73820755, 280.69647059,\n",
       "       280.70657277, 280.79391101, 280.89018692, 280.92307692,\n",
       "       280.77906977, 280.78886311, 280.65509259, 280.61893764,\n",
       "       280.71428571, 280.63678161, 280.65366972, 280.75057208,\n",
       "       280.94748858, 280.80865604, 280.76590909, 280.7414966 ,\n",
       "       280.73303167, 280.67042889, 280.69594595, 280.62921348,\n",
       "       280.65919283, 280.59731544, 280.61830357, 280.55902004,\n",
       "       280.40888889, 280.45232816, 280.70575221, 280.58278146,\n",
       "       280.55286344, 280.6021978 , 280.67763158, 280.71334792,\n",
       "       280.87991266, 280.88671024, 280.92173913, 280.79175705,\n",
       "       280.73809524, 280.67170626, 280.51939655, 280.40645161,\n",
       "       280.39484979, 280.30192719, 280.27350427, 280.1684435 ,\n",
       "       280.1212766 , 280.08492569, 280.04449153, 280.03805497,\n",
       "       279.98945148, 279.99157895, 280.12605042, 280.10691824,\n",
       "       280.08786611, 280.03966597, 279.95625   , 280.02286902,\n",
       "       279.91493776, 279.82401656, 279.83057851, 279.80824742,\n",
       "       279.82098765, 279.75359343, 279.74795082, 279.83026585,\n",
       "       279.79795918, 279.7413442 , 279.73780488, 279.84989858,\n",
       "       280.11133603, 280.02222222, 280.01008065, 280.04426559,\n",
       "       279.99196787, 279.89378758, 279.806     , 279.84031936,\n",
       "       279.75298805, 279.83300199, 279.70833333, 279.63960396,\n",
       "       279.57114625, 279.67455621, 279.67322835, 279.61493124,\n",
       "       279.60784314, 279.71232877, 279.63085938, 279.71150097,\n",
       "       279.71206226, 279.71067961, 279.81007752, 279.86460348,\n",
       "       279.85135135, 279.83815029, 279.86730769, 279.81190019,\n",
       "       279.79885057, 279.85659656, 279.8759542 , 279.89714286,\n",
       "       279.84980989, 279.89943074, 279.89393939, 279.9168242 ,\n",
       "       279.80566038, 279.89453861, 279.76315789, 279.72795497,\n",
       "       279.64044944, 279.6       , 279.62126866, 279.67783985,\n",
       "       279.69702602, 279.70871985, 279.67407407, 279.66543438,\n",
       "       279.6402214 , 279.62799263, 279.67830882, 279.57614679,\n",
       "       279.57509158, 279.51919561, 279.43978102, 279.29508197,\n",
       "       279.45090909, 279.43375681, 279.5       , 279.49728752,\n",
       "       279.36823105, 279.36576577, 279.40107914, 279.50089767,\n",
       "       279.59318996, 279.54919499, 279.49642857, 279.50980392,\n",
       "       279.55871886, 279.6731794 , 279.60106383, 279.60353982,\n",
       "       279.68551237, 279.56261023, 279.53873239, 279.42179262,\n",
       "       279.42105263, 279.3502627 , 279.46678322, 279.47294939,\n",
       "       279.42334495, 279.40173913, 279.28993056, 279.20277296,\n",
       "       279.20934256, 279.0656304 , 279.01034483, 278.97590361,\n",
       "       278.91408935, 278.80102916, 278.72945205, 278.8034188 ,\n",
       "       278.80546075, 278.84497445, 278.8962585 , 278.95585739,\n",
       "       278.99491525, 278.97631134, 279.01013514, 278.99662732,\n",
       "       278.93097643, 278.93613445, 278.88255034, 278.84254606,\n",
       "       278.74916388, 278.61602671, 278.66166667, 278.67054908,\n",
       "       278.65614618, 278.72802653, 278.74834437, 278.8231405 ,\n",
       "       278.84818482, 278.86655684, 278.79276316, 278.68144499,\n",
       "       278.68852459, 278.61047463, 278.5375817 , 278.50081566,\n",
       "       278.43485342, 278.49593496, 278.56168831, 278.52350081,\n",
       "       278.48705502, 278.55573506, 278.53387097, 278.57648953,\n",
       "       278.5096463 , 278.48796148, 278.49519231, 278.5504    ,\n",
       "       278.66773163, 278.72408293, 278.73089172, 278.7154213 ,\n",
       "       278.76825397, 278.76862124, 278.76898734, 278.82938389,\n",
       "       278.9384858 , 278.92755906, 279.03301887, 278.94976452,\n",
       "       278.94043887, 278.88262911, 278.8375    , 278.94383775,\n",
       "       278.93457944, 279.06531882, 278.92857143, 278.84496124,\n",
       "       278.84055728, 278.85316847, 278.94135802, 278.96456086,\n",
       "       278.95692308, 278.86789555, 278.77453988, 278.67993874,\n",
       "       278.83486239, 278.84580153, 278.94664634, 278.91171994,\n",
       "       278.85714286, 278.76024279, 278.80757576, 278.7730711 ,\n",
       "       278.80060423, 278.80844646, 278.83885542, 278.7593985 ,\n",
       "       278.78528529, 278.71214393, 278.71556886, 278.78176383,\n",
       "       278.7358209 , 278.69299553, 278.64285714, 278.64041605,\n",
       "       278.54896142, 278.58074074, 278.66420118, 278.55982275,\n",
       "       278.58554572, 278.58910162, 278.68088235, 278.74155653,\n",
       "       278.74486804, 278.68228404, 278.70614035, 278.75036496,\n",
       "       278.86588921, 278.87190684, 278.84302326, 278.88098694,\n",
       "       278.84782609, 278.91606368, 278.88728324, 278.8961039 ,\n",
       "       278.86023055, 278.87482014, 278.82758621, 278.83500717,\n",
       "       278.78223496, 278.73819742, 278.65857143, 278.67760342,\n",
       "       278.68233618, 278.67852063, 278.67045455, 278.71489362,\n",
       "       278.67705382, 278.67043847, 278.70762712, 278.66149506,\n",
       "       278.6028169 , 278.604782  , 278.56320225, 278.56942496,\n",
       "       278.51540616, 278.52167832, 278.43715084, 278.45327755,\n",
       "       278.4637883 , 278.49513213, 278.50277778, 278.43134535,\n",
       "       278.35457064, 278.35961272, 278.34944751, 278.36413793,\n",
       "       278.32644628, 278.34662999, 278.32417582, 278.26611797,\n",
       "       278.27671233, 278.30369357, 278.34153005, 278.41609823,\n",
       "       278.44141689, 278.44897959, 278.46603261, 278.49796472,\n",
       "       278.49322493, 278.49391069, 278.49594595, 278.4534413 ,\n",
       "       278.52291105, 278.47913863, 278.46505376, 278.51275168,\n",
       "       278.47453083, 278.44712182, 278.4973262 , 278.5246996 ,\n",
       "       278.544     , 278.52596538, 278.46143617, 278.35723772,\n",
       "       278.38196286, 278.40529801, 278.35582011, 278.332893  ,\n",
       "       278.33641161, 278.40447958, 278.40131579, 278.38633377,\n",
       "       278.40551181, 278.35648755, 278.34293194, 278.34117647,\n",
       "       278.29634465, 278.3220339 , 278.28385417, 278.37841352,\n",
       "       278.35454545, 278.29961089, 278.26036269, 278.30012937,\n",
       "       278.29198966, 278.24516129, 278.24097938, 278.18918919,\n",
       "       278.25321337, 278.26829268, 278.18846154, 278.184379  ,\n",
       "       278.2544757 , 278.25798212, 278.22193878, 278.27388535,\n",
       "       278.22773537, 278.20457433, 278.15989848, 278.20785805,\n",
       "       278.17974684, 278.20353982, 278.21085859, 278.27868852,\n",
       "       278.31738035, 278.34213836, 278.32286432, 278.37013802,\n",
       "       278.33709273, 278.281602  , 278.25625   , 278.2721598 ,\n",
       "       278.20822943, 278.14819427, 278.10945274, 278.13664596,\n",
       "       278.1662531 , 278.18091698, 278.08787129, 278.08281829,\n",
       "       278.02098765, 277.98766954, 278.05541872, 278.02337023,\n",
       "       278.06633907, 278.01717791, 277.97058824, 277.93145655,\n",
       "       277.96332518, 277.89499389, 277.84146341, 277.84896468,\n",
       "       277.84549878, 277.98784933, 278.00970874, 277.96484848,\n",
       "       277.92736077, 277.96614268, 277.96135266, 277.98190591,\n",
       "       277.90240964, 277.87966306, 277.91105769, 277.91956783,\n",
       "       277.92326139, 277.81556886, 277.89593301, 277.869773  ,\n",
       "       277.89618138, 277.89868892, 277.925     , 277.90963139,\n",
       "       277.83966746, 277.9489917 , 278.0556872 , 278.08047337,\n",
       "       278.12174941, 278.12514758, 278.12853774, 278.09540636,\n",
       "       278.09411765, 278.09048179, 278.11267606, 278.13599062,\n",
       "       278.22014052, 278.22573099, 278.19275701, 278.21120187,\n",
       "       278.17599068, 278.18044237, 278.2       , 278.26364692,\n",
       "       278.23781903, 278.25840093, 278.20717593, 278.2265896 ,\n",
       "       278.19861432, 278.22491349, 278.20276498, 278.19792865,\n",
       "       278.16206897, 278.08725603, 278.18119266, 278.15005727,\n",
       "       278.15675057, 278.192     , 278.17237443, 278.17673888,\n",
       "       278.17312073, 278.16268487, 278.19886364, 278.26560726,\n",
       "       278.2755102 , 278.27633069, 278.25565611, 278.26553672,\n",
       "       278.22460497, 278.22209696, 278.20157658, 278.2519685 ,\n",
       "       278.31573034, 278.36700337, 278.38004484, 278.42665174,\n",
       "       278.3803132 , 278.37094972, 278.33705357, 278.34225195,\n",
       "       278.422049  , 278.41713014, 278.41111111, 278.51609323,\n",
       "       278.47228381, 278.46843854, 278.50663717, 278.51160221,\n",
       "       278.49558499, 278.4244763 , 278.42290749, 278.39053905,\n",
       "       278.40549451, 278.42810099, 278.42872807, 278.44249726,\n",
       "       278.4868709 , 278.54863388, 278.58624454, 278.53107961,\n",
       "       278.52396514, 278.47660501, 278.43152174, 278.42236699,\n",
       "       278.35683297, 278.38028169, 278.42424242, 278.45945946,\n",
       "       278.46436285, 278.41208198, 278.40732759, 278.41657696,\n",
       "       278.43763441, 278.48227712, 278.44742489, 278.48445874,\n",
       "       278.46680942, 278.49197861, 278.50641026, 278.47385272,\n",
       "       278.43603412, 278.42172524, 278.4287234 , 278.41657811,\n",
       "       278.47133758, 278.51113468, 278.53707627, 278.53544974,\n",
       "       278.59830867, 278.59767687, 278.59704641, 278.6227608 ,\n",
       "       278.60315789, 278.59516299, 278.61554622, 278.57082896,\n",
       "       278.53773585, 278.51937173, 278.48640167, 278.51306165,\n",
       "       278.51983299, 278.50990615, 278.49583333, 278.48595213,\n",
       "       278.44490644, 278.45067497, 278.43360996, 278.42072539,\n",
       "       278.43374741, 278.46535677, 278.44421488, 278.43034056,\n",
       "       278.44123711, 278.46652935, 278.53703704, 278.57142857,\n",
       "       278.54517454, 278.53128205, 278.50922131, 278.50153531,\n",
       "       278.55316973, 278.60980592, 278.62959184, 278.6146789 ,\n",
       "       278.71792261, 278.73143438, 278.7449187 , 278.74517766,\n",
       "       278.73833671, 278.77608916, 278.76214575, 278.75631951,\n",
       "       278.8030303 , 278.90211907, 278.93850806, 278.87411883,\n",
       "       278.87424547, 278.86633166, 278.85140562, 278.89167503,\n",
       "       278.90480962, 278.90890891, 278.936     ])"
      ]
     },
     "execution_count": 31,
     "metadata": {},
     "output_type": "execute_result"
    }
   ],
   "source": [
    "lis = []\n",
    "\n",
    "for r in range(1000):\n",
    "    lis.append(count_triangles(nx.gnp_random_graph(100, 0.12)))\n",
    "\n",
    "numtriangles = np.array(lis)\n",
    "\n",
    "avg = []\n",
    "\n",
    "for i in range(999):\n",
    "    avg.append(np.sum(numtriangles[0:i+2]) / (i+2))\n",
    "    \n",
    "avgtriangles = np.array(avg)\n",
    "\n",
    "avgtriangles"
   ]
  },
  {
   "cell_type": "code",
   "execution_count": null,
   "metadata": {},
   "outputs": [],
   "source": []
  }
 ],
 "metadata": {
  "kernelspec": {
   "display_name": "Python 3 (ipykernel)",
   "language": "python",
   "name": "python3"
  },
  "language_info": {
   "codemirror_mode": {
    "name": "ipython",
    "version": 3
   },
   "file_extension": ".py",
   "mimetype": "text/x-python",
   "name": "python",
   "nbconvert_exporter": "python",
   "pygments_lexer": "ipython3",
   "version": "3.8.8"
  }
 },
 "nbformat": 4,
 "nbformat_minor": 1
}
