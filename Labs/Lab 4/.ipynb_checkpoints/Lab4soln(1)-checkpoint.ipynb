{
 "cells": [
  {
   "cell_type": "markdown",
   "metadata": {},
   "source": [
    "## Network Science Lab 4 Solution"
   ]
  },
  {
   "cell_type": "code",
   "execution_count": 1,
   "metadata": {},
   "outputs": [],
   "source": [
    "#Run this cell 1st to import numpy, matplotlib, and networkx\n",
    "import matplotlib.pyplot as plt\n",
    "import networkx as nx\n",
    "import numpy as np"
   ]
  },
  {
   "cell_type": "markdown",
   "metadata": {},
   "source": [
    "**1)** Consider the following code:\n",
    "\n",
    "G1 = nx.Graph()\n",
    "\n",
    "edges = [[1,2],[1,3],[1,2],[2,4],[3,4],[5,6]]\n",
    "\n",
    "G1.add_edges_from(edges)\n",
    "\n",
    "G2 = G1\n",
    "\n",
    "G2.add_edge(6,7)\n",
    "\n",
    "G1.add_edge(8,9)\n",
    "\n",
    "What will G1 and G2 be after this code has run? Check your conclusion by running the code and explain any discrepancies between what you expected and what you see."
   ]
  },
  {
   "cell_type": "code",
   "execution_count": 3,
   "metadata": {},
   "outputs": [
    {
     "name": "stdout",
     "output_type": "stream",
     "text": [
      "[(1, 2), (1, 3), (2, 4), (3, 4), (5, 6), (6, 7), (8, 9)]\n",
      "[(1, 2), (1, 3), (2, 4), (3, 4), (5, 6), (6, 7), (8, 9)]\n"
     ]
    }
   ],
   "source": [
    "G1 = nx.Graph()\n",
    "edges = [[1,2],[1,3],[1,2],[2,4],[3,4],[5,6]]\n",
    "G1.add_edges_from(edges)\n",
    "G2 = G1\n",
    "G2.add_edge(6,7)\n",
    "G1.add_edge(8,9)\n",
    "print(G1.edges())\n",
    "print(G2.edges())"
   ]
  },
  {
   "cell_type": "markdown",
   "metadata": {},
   "source": [
    "G2=G1 results in the \"names\" G1 and G2 both pointing to the same location in memory. So when an edge in G2 is modified, data in memory is modified, and G1 is \"using\" the same data in the same location in memory, so it is also modified. To avoid this behavior, use G2 = G1.copy(). Similar behavior is found when working with mutable containers like lists and Numpy arrays."
   ]
  },
  {
   "cell_type": "markdown",
   "metadata": {},
   "source": [
    "**2)** Consider the configuration model applied to the degree sequence below. Develop a numerical test of the theoretical result that the expected number of links between 2 nodes is $k_i k_j/(K-1)$. You do not need to check each distinct pair of nodes, but try a few. "
   ]
  },
  {
   "cell_type": "code",
   "execution_count": 4,
   "metadata": {},
   "outputs": [
    {
     "name": "stdout",
     "output_type": "stream",
     "text": [
      "i= 0\n",
      "i= 10000\n",
      "i= 20000\n",
      "i= 30000\n",
      "i= 40000\n",
      "l0j_theory= [0.78947368 0.31578947 0.31578947 0.47368421 0.31578947 0.15789474\n",
      " 0.15789474 0.15789474]\n",
      "l0j_comp= [0.7903  0.31258 0.31594 0.47382 0.3144  0.15704 0.15778 0.1549 ]\n",
      "Test: |l0j_theory-l0j_comp|= [0.00082632 0.00320947 0.00015053 0.00013579 0.00138947 0.00085474\n",
      " 0.00011474 0.00299474]\n"
     ]
    }
   ],
   "source": [
    "k = np.array([3, 5, 2, 2, 3, 2, 1, 1, 1]) #Degree sequence\n",
    "#Add code here\n",
    "\"\"\"Create several graphs for this k with the configuration model; for each graph, compute the number of edges between nodes 0\n",
    "and every other node for each graph; average over the number of graphs\"\"\"\n",
    "N = k.size #Number of nodes\n",
    "K = k.sum() #Total degree\n",
    "l0j_theory = k[0]*k[1:]/(K-1) #expected number of links between nodes 0 and j\n",
    "Reps = 50000 #Number of graphs simulated. Increasing will improve agreement and increase computation time\n",
    "l0j = np.zeros((Reps,N-1)) #will store the number of links between node 0 and all other nodes\n",
    "\n",
    "for i in range(Reps):\n",
    "    if i%10000==0: print(\"i=\",i)\n",
    "    G = nx.configuration_model(k)\n",
    "    for j in range(1,N):\n",
    "        l0j[i,j-1] = G.number_of_edges(0,j) #number of edges between nodes 0 and j\n",
    "\n",
    "l0j_comp = l0j.mean(axis=0) #average over the Reps graphs\n",
    "print(\"l0j_theory=\",l0j_theory)\n",
    "print(\"l0j_comp=\",l0j_comp)\n",
    "print(\"Test: |l0j_theory-l0j_comp|=\",np.abs(l0j_theory-l0j_comp))"
   ]
  },
  {
   "cell_type": "markdown",
   "metadata": {},
   "source": [
    "**3.** The diameter in Barabasi-Albert graphs is epected to grow as $log(log(N))$ when the number of links added each iteration is two or larger. Check if this also applies to the average path length. Use *nx.barabasi_albert_graph*, set $m=2$, and choose parameters in a sensible manner so that the computational time does not become excessive."
   ]
  },
  {
   "cell_type": "code",
   "execution_count": 5,
   "metadata": {},
   "outputs": [
    {
     "name": "stdout",
     "output_type": "stream",
     "text": [
      "Running simulations...\n",
      "i,N= 0 10\n",
      "i,N= 1 20\n",
      "i,N= 2 50\n",
      "i,N= 3 100\n",
      "i,N= 4 500\n",
      "i,N= 5 1000\n",
      "i,N= 6 2000\n",
      "...done\n",
      "log log N= [0.83403245 1.0971887  1.36405463 1.52717963 1.82690267 1.93264473\n",
      " 2.02826698]\n",
      "D= [1.84444444 2.12631579 2.7077551  3.00626263 3.84521844 4.11205806\n",
      " 4.44808304]\n",
      "D/log log N= [2.21147805 1.93796727 1.98507819 1.96850624 2.10477466 2.1276844\n",
      " 2.19304612]\n"
     ]
    }
   ],
   "source": [
    "#Add code here\n",
    "Narray = np.array([10,20,50,100,500,1000,2000]) #Graph sizes\n",
    "loglogN = np.log(np.log(Narray))\n",
    "Nsize = Narray.size\n",
    "m = 2\n",
    "Darray = np.zeros(Nsize)\n",
    "\n",
    "#Generate B-A graph for each graph size and compute average distance\n",
    "print(\"Running simulations...\")\n",
    "for i,N in enumerate(Narray):\n",
    "    print(\"i,N=\",i,N)\n",
    "    G = nx.barabasi_albert_graph(N,2)\n",
    "    Darray[i] = nx.average_shortest_path_length(G)\n",
    "\n",
    "#Display results, a straight line would indicate that the computations match theory.\n",
    "print(\"...done\")\n",
    "print(\"log log N=\",loglogN)\n",
    "print(\"D=\",Darray)\n",
    "print(\"D/log log N=\",Darray/loglogN)\n",
    "\n"
   ]
  },
  {
   "cell_type": "code",
   "execution_count": 6,
   "metadata": {},
   "outputs": [
    {
     "data": {
      "text/plain": [
       "Text(0.5, 1.0, 'Average shortest path length in B-A graphs with m=2')"
      ]
     },
     "execution_count": 6,
     "metadata": {},
     "output_type": "execute_result"
    },
    {
     "data": {
      "image/png": "[encoded data removed]",
      "text/plain": [
       "<Figure size 432x288 with 1 Axes>"
      ]
     },
     "metadata": {
      "needs_background": "light"
     },
     "output_type": "display_data"
    }
   ],
   "source": [
    "plt.figure()\n",
    "plt.plot(loglogN,Darray,'x--')\n",
    "plt.grid()\n",
    "plt.xlabel('log log N')\n",
    "plt.ylabel(r'$\\overline{d}$')\n",
    "plt.title(\"Average shortest path length in B-A graphs with m=2\")"
   ]
  },
  {
   "cell_type": "markdown",
   "metadata": {},
   "source": [
    "Not too bad"
   ]
  }
 ],
 "metadata": {
  "kernelspec": {
   "display_name": "Python 3 (ipykernel)",
   "language": "python",
   "name": "python3"
  },
  "language_info": {
   "codemirror_mode": {
    "name": "ipython",
    "version": 3
   },
   "file_extension": ".py",
   "mimetype": "text/x-python",
   "name": "python",
   "nbconvert_exporter": "python",
   "pygments_lexer": "ipython3",
   "version": "3.9.13"
  }
 },
 "nbformat": 4,
 "nbformat_minor": 1
}
