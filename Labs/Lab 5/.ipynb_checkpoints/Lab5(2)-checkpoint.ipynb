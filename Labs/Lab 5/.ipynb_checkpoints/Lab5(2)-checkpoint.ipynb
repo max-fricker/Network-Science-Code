{
 "cells": [
  {
   "cell_type": "markdown",
   "metadata": {},
   "source": [
    "## Network Science Lab 5"
   ]
  },
  {
   "cell_type": "markdown",
   "metadata": {},
   "source": [
    "### Numerical solution of an initial value problem\n",
    "When analyzing dynamics on networks, we frequently work with systems of ordinary differential equations (one equation for each node). The graph diffusion equation is a system of linear constant coefficient equations which can be solved in terms of the eigenvalues and eigenvectors of the graph Laplacian. Such an approach will not work for variable-coefficient and nonlinear ODEs which often arise when working with complex systems. Instead, we can use computational routines which take the initial condition as input and compute approximate solutions at later times. In this lab, you will use the *solve_ivp* function to solve a system of two equations. These equations have an analytical solution (which you should find and then use to test your numerical result), but keep in mind that the same approach could be used for more complicated equations."
   ]
  },
  {
   "cell_type": "markdown",
   "metadata": {},
   "source": [
    "Familiarize yourself with the *odeint* function. The documentation for the function is here: https://docs.scipy.org/doc/scipy/reference/generated/scipy.integrate.solve_ivp.html\n",
    "Note that there are three required input variables: func, y0 and t. "
   ]
  },
  {
   "cell_type": "markdown",
   "metadata": {},
   "source": [
    "You will now use *solve_ivp* from scipy.integrate to solve the following IVP:\n",
    "\n",
    "$\\frac{dy_1}{dt} =  sin( \\omega t) $\n",
    "\n",
    "$\\frac{dy_2}{dt} = y_1 - y_2$\n",
    "\n",
    "$y_1(0)=1, ~ y_2(0)=0$\n",
    "\n",
    "and $\\omega$ is a parameter that must be specified"
   ]
  },
  {
   "cell_type": "markdown",
   "metadata": {},
   "source": [
    "1) Create a function named RHS which takes t,y, and $\\omega$ as input and returns dy/dt. Note that y and dy/dt should each contain two elements"
   ]
  },
  {
   "cell_type": "code",
   "execution_count": 1,
   "metadata": {},
   "outputs": [],
   "source": [
    "import numpy as np\n",
    "import matplotlib.pyplot as plt\n",
    "#Add code here\n",
    "\n",
    "\n",
    "def RHS(t, y, omega):\n",
    "    dy1 = np.sin(omega *)"
   ]
  },
  {
   "cell_type": "markdown",
   "metadata": {},
   "source": [
    "2) Now, (a) set the variable, y0, to the initial condition, (b) assign a value to $\\omega$, and (c) create an array of times, t (starting at zero) at which the solution will be computed (y0 should contain two elements)."
   ]
  },
  {
   "cell_type": "code",
   "execution_count": null,
   "metadata": {},
   "outputs": [],
   "source": [
    "#Add code here\n"
   ]
  },
  {
   "cell_type": "markdown",
   "metadata": {},
   "source": [
    "3) If the previous tasks have been completed correctly, the code below will solve the IVP and return the solution in the array, y"
   ]
  },
  {
   "cell_type": "code",
   "execution_count": null,
   "metadata": {},
   "outputs": [],
   "source": [
    "import numpy as np\n",
    "from scipy.integrate import solve_ivp\n",
    "sol = solve_ivp(RHS,[t[0],t[-1]],y0,args=(w,),t_eval = t,method='BDF')\n",
    "y = sol.y"
   ]
  },
  {
   "cell_type": "markdown",
   "metadata": {},
   "source": [
    "4) What are the dimensions of y? Plot your solution for $y_i(t)$. Compute the error, $\\epsilon(t) = |y_2-y_{2,exact}|$. Is it what you expect? Can you reduce it? For this last question, it may be helpful to look at the online documentation for *solve_ivp*. "
   ]
  },
  {
   "cell_type": "code",
   "execution_count": null,
   "metadata": {},
   "outputs": [],
   "source": [
    "#Add code here\n"
   ]
  }
 ],
 "metadata": {
  "kernelspec": {
   "display_name": "Python 3 (ipykernel)",
   "language": "python",
   "name": "python3"
  },
  "language_info": {
   "codemirror_mode": {
    "name": "ipython",
    "version": 3
   },
   "file_extension": ".py",
   "mimetype": "text/x-python",
   "name": "python",
   "nbconvert_exporter": "python",
   "pygments_lexer": "ipython3",
   "version": "3.9.13"
  }
 },
 "nbformat": 4,
 "nbformat_minor": 1
}
